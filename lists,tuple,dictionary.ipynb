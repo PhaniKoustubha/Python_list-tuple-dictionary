{
  "nbformat": 4,
  "nbformat_minor": 0,
  "metadata": {
    "colab": {
      "provenance": [],
      "authorship_tag": "ABX9TyNwAQXh5eJNITDxhYRpjeQn",
      "include_colab_link": true
    },
    "kernelspec": {
      "name": "python3",
      "display_name": "Python 3"
    },
    "language_info": {
      "name": "python"
    }
  },
  "cells": [
    {
      "cell_type": "markdown",
      "metadata": {
        "id": "view-in-github",
        "colab_type": "text"
      },
      "source": [
        "<a href=\"https://colab.research.google.com/github/PhaniKoustubha/Python_list-tuple-dictionary/blob/main/lists%2Ctuple%2Cdictionary.ipynb\" target=\"_parent\"><img src=\"https://colab.research.google.com/assets/colab-badge.svg\" alt=\"Open In Colab\"/></a>"
      ]
    },
    {
      "cell_type": "code",
      "execution_count": null,
      "metadata": {
        "colab": {
          "base_uri": "https://localhost:8080/"
        },
        "id": "i3Fw7CjSpti5",
        "outputId": "bdb8b4e8-18eb-48c4-a6c6-a6f20480ad71"
      },
      "outputs": [
        {
          "output_type": "stream",
          "name": "stdout",
          "text": [
            "Enter any number36\n",
            "Enter any number64\n",
            "100\n"
          ]
        }
      ],
      "source": [
        "#Basic arithematic operations\n",
        "#addition\n",
        "\n",
        "a = int(input(\"Enter any number\"))\n",
        "b = int(input(\"Enter any number\"))\n",
        "c = a+bs\n",
        "print(c)"
      ]
    },
    {
      "cell_type": "code",
      "source": [
        "#subtraction\n",
        "\n",
        "a = int(input('Enter any number'))\n",
        "b = int(input('Enter any number'))\n",
        "c = a-b\n",
        "print(c)"
      ],
      "metadata": {
        "colab": {
          "base_uri": "https://localhost:8080/"
        },
        "id": "BDd9ES-0rYRo",
        "outputId": "9f9387ed-a485-4f4a-a76d-04933efa5af4"
      },
      "execution_count": null,
      "outputs": [
        {
          "output_type": "stream",
          "name": "stdout",
          "text": [
            "Enter any number36\n",
            "Enter any number18\n",
            "18\n"
          ]
        }
      ]
    },
    {
      "cell_type": "code",
      "source": [
        "#multiplication\n",
        "\n",
        "a = int(input(\"Enter any number\"))\n",
        "b = int(input(\"Enter any number\"))\n",
        "c = a*b\n",
        "print(c)"
      ],
      "metadata": {
        "colab": {
          "base_uri": "https://localhost:8080/"
        },
        "id": "jAUNLQE2roE3",
        "outputId": "f78281e2-71b1-43a6-e75d-f8982f540a95"
      },
      "execution_count": null,
      "outputs": [
        {
          "output_type": "stream",
          "name": "stdout",
          "text": [
            "Enter any number12\n",
            "Enter any number4\n",
            "48\n"
          ]
        }
      ]
    },
    {
      "cell_type": "code",
      "source": [
        "#division\n",
        "\n",
        "a = int(input(\"Enter any number\"))\n",
        "b = int(input(\"Enter any number\"))\n",
        "c = a/b\n",
        "print(c)"
      ],
      "metadata": {
        "colab": {
          "base_uri": "https://localhost:8080/"
        },
        "id": "pEVKVLZ0sjqk",
        "outputId": "51b48533-7e06-475c-ea51-7dcd0de74d69"
      },
      "execution_count": null,
      "outputs": [
        {
          "output_type": "stream",
          "name": "stdout",
          "text": [
            "Enter any number16\n",
            "Enter any number4\n",
            "4.0\n"
          ]
        }
      ]
    },
    {
      "cell_type": "code",
      "source": [
        "  #modulus\n",
        "\n",
        "  a = int(input(\"Enter any number\"))\n",
        "  b = int(input(\"Enter any number\"))\n",
        "  c = a%b\n",
        "  print(c)"
      ],
      "metadata": {
        "colab": {
          "base_uri": "https://localhost:8080/"
        },
        "id": "Wh9YH593zlDC",
        "outputId": "cb248810-3db8-42a8-89bf-b73ea76262e8"
      },
      "execution_count": null,
      "outputs": [
        {
          "output_type": "stream",
          "name": "stdout",
          "text": [
            "Enter any number40\n",
            "Enter any number12\n",
            "4\n"
          ]
        }
      ]
    },
    {
      "cell_type": "markdown",
      "source": [
        "Conditional statements"
      ],
      "metadata": {
        "id": "sf9AGt-S65Wl"
      }
    },
    {
      "cell_type": "code",
      "source": [
        "#if\n",
        "\n",
        "n = int(input(\"Enter the value of n : \"))\n",
        "if(n == 0):\n",
        "  print(\"The number is Zero\")\n",
        "print(\"It is not a zero\")"
      ],
      "metadata": {
        "colab": {
          "base_uri": "https://localhost:8080/"
        },
        "id": "JOaYymaj89wD",
        "outputId": "3e1bd7ec-cf61-4aea-f65e-d9f6952f19de"
      },
      "execution_count": null,
      "outputs": [
        {
          "output_type": "stream",
          "name": "stdout",
          "text": [
            "Enter the value of n : 7\n",
            "It is not a zero\n"
          ]
        }
      ]
    },
    {
      "cell_type": "code",
      "source": [
        "#ifelse\n",
        "\n",
        "n=int( input( \"Enter the value of n:\" ) )\n",
        "if(n>0):\n",
        "  print(\"The number is positive\")\n",
        "else:\n",
        "  print(\"The number is negative\")"
      ],
      "metadata": {
        "colab": {
          "base_uri": "https://localhost:8080/"
        },
        "id": "L6sAHszj6-KL",
        "outputId": "e8c9bf33-025a-4f37-9a25-a78c63d58998"
      },
      "execution_count": null,
      "outputs": [
        {
          "output_type": "stream",
          "name": "stdout",
          "text": [
            "Enter the value of n:8\n",
            "The number is positive\n"
          ]
        }
      ]
    },
    {
      "cell_type": "code",
      "source": [
        "#elif\n",
        "\n",
        "x=int(input(\"Enter the value of x:\"))\n",
        "y=int(input(\"Enter the value of y:\"))\n",
        "z=int(input(\"Enter the value of z:\"))\n",
        "if(x>y or x>z):\n",
        "  print(\"x is greater\")\n",
        "elif(y>x or y>z):\n",
        "  print(\"y is greater\")\n",
        "else:\n",
        "  print(\"z is greater\")"
      ],
      "metadata": {
        "colab": {
          "base_uri": "https://localhost:8080/"
        },
        "id": "23ayfBZ27XB1",
        "outputId": "f4ab01e3-5cef-4822-b59b-fe97b4f941c6"
      },
      "execution_count": null,
      "outputs": [
        {
          "output_type": "stream",
          "name": "stdout",
          "text": [
            "Enter the value of x:1\n",
            "Enter the value of y:4\n",
            "Enter the value of z:3\n",
            "y is greater\n"
          ]
        }
      ]
    },
    {
      "cell_type": "code",
      "source": [
        "#elif\n",
        "\n",
        "a=int(input(\"Enter the year\"))\n",
        "if (a%400==0):\n",
        "  print(\"The given year is leap year\")\n",
        "elif (a%4==0):\n",
        "  print(\"The given year is leap year\")\n",
        "elif(a%100==0):\n",
        "  print(\"The given year is not a leap year\")\n",
        "else:\n",
        "  print(\"The given year is not a leap year\")"
      ],
      "metadata": {
        "colab": {
          "base_uri": "https://localhost:8080/"
        },
        "id": "guvZtHEa8HIt",
        "outputId": "7db87734-07c3-4f3f-e050-40473e32cd8c"
      },
      "execution_count": null,
      "outputs": [
        {
          "output_type": "stream",
          "name": "stdout",
          "text": [
            "Enter the year2986\n",
            "The given year is not a leap year\n"
          ]
        }
      ]
    },
    {
      "cell_type": "markdown",
      "source": [
        "**String Manupulations**"
      ],
      "metadata": {
        "id": "Un_b1q-09VrX"
      }
    },
    {
      "cell_type": "code",
      "source": [
        "#concatinating\n",
        "a = input()\n",
        "b = input()\n",
        "c = a+b\n",
        "print(c)"
      ],
      "metadata": {
        "id": "bobCe_aZ9aSq",
        "colab": {
          "base_uri": "https://localhost:8080/"
        },
        "outputId": "a0c3e91e-f2d9-417b-ce3e-a669ef92b983"
      },
      "execution_count": null,
      "outputs": [
        {
          "output_type": "stream",
          "name": "stdout",
          "text": [
            "Main Flow\n",
            "Services and Technologies\n",
            "Main FlowServices and Technologies\n"
          ]
        }
      ]
    },
    {
      "cell_type": "code",
      "source": [
        "#slicing\n",
        "a = input()\n",
        "print(a[:5-2])"
      ],
      "metadata": {
        "colab": {
          "base_uri": "https://localhost:8080/"
        },
        "id": "m-al4n1ST3Dl",
        "outputId": "72f07a96-1672-46ef-94ee-0fdfce10af02"
      },
      "execution_count": null,
      "outputs": [
        {
          "output_type": "stream",
          "name": "stdout",
          "text": [
            "AICTE\n",
            "AIC\n"
          ]
        }
      ]
    },
    {
      "cell_type": "code",
      "source": [
        "#uppercase\n",
        "a = input()\n",
        "y = a.upper()\n",
        "print(y)"
      ],
      "metadata": {
        "colab": {
          "base_uri": "https://localhost:8080/"
        },
        "id": "h3z8eKe_UDI0",
        "outputId": "cb770169-0980-473b-96d4-d83d0342bfc8"
      },
      "execution_count": null,
      "outputs": [
        {
          "output_type": "stream",
          "name": "stdout",
          "text": [
            "Main Flow Services and Technology\n",
            "MAIN FLOW SERVICES AND TECHNOLOGY\n"
          ]
        }
      ]
    },
    {
      "cell_type": "code",
      "source": [
        "#lowercase\n",
        "a = input()\n",
        "y = a.lower()\n",
        "print(y)"
      ],
      "metadata": {
        "colab": {
          "base_uri": "https://localhost:8080/"
        },
        "id": "2viZH06yUS7j",
        "outputId": "4b6016d4-5229-4fc3-8314-0224840b8509"
      },
      "execution_count": null,
      "outputs": [
        {
          "output_type": "stream",
          "name": "stdout",
          "text": [
            "Main Flow Services and Technology\n",
            "main flow services and technology\n"
          ]
        }
      ]
    },
    {
      "cell_type": "code",
      "source": [
        "#splitting\n",
        "a = input()\n",
        "y = a.split()\n",
        "print(y)"
      ],
      "metadata": {
        "colab": {
          "base_uri": "https://localhost:8080/"
        },
        "id": "Cn3JikVLUeky",
        "outputId": "044187ac-6f0f-4db3-915b-bbb39eae65d7"
      },
      "execution_count": null,
      "outputs": [
        {
          "output_type": "stream",
          "name": "stdout",
          "text": [
            "Main Flow Services and Technology\n",
            "['Main', 'Flow', 'Services', 'and', 'Technology']\n"
          ]
        }
      ]
    },
    {
      "cell_type": "code",
      "source": [
        "#replace\n",
        "a = \"Python programming\"\n",
        "print(a)\n",
        "y = a.replace(\"programming\",\"developer\")\n",
        "print(y)"
      ],
      "metadata": {
        "colab": {
          "base_uri": "https://localhost:8080/"
        },
        "id": "uQIbTutfUwWo",
        "outputId": "d33c208c-2c70-49ef-b73e-e1596d5de5cd"
      },
      "execution_count": null,
      "outputs": [
        {
          "output_type": "stream",
          "name": "stdout",
          "text": [
            "Python programming\n",
            "Python developer\n"
          ]
        }
      ]
    },
    {
      "cell_type": "markdown",
      "source": [
        "**LIST OPERATIONS**"
      ],
      "metadata": {
        "id": "_ZRprccwVgnk"
      }
    },
    {
      "cell_type": "code",
      "source": [
        "#creating list\n",
        "l = [2,3,5,7,11,13,17]\n",
        "print(\"Elements are:\",l)"
      ],
      "metadata": {
        "colab": {
          "base_uri": "https://localhost:8080/"
        },
        "id": "smqWrZiSVlc5",
        "outputId": "73918211-cf4f-436c-b53e-6092a62e26fc"
      },
      "execution_count": null,
      "outputs": [
        {
          "output_type": "stream",
          "name": "stdout",
          "text": [
            "Elements are: [2, 3, 5, 7, 11, 13, 17]\n"
          ]
        }
      ]
    },
    {
      "cell_type": "code",
      "source": [
        "#appending\n",
        "l.append(23)\n",
        "print(\"Updated elements:\",l)"
      ],
      "metadata": {
        "colab": {
          "base_uri": "https://localhost:8080/"
        },
        "id": "RqVRVPJKV9Pn",
        "outputId": "54fcca29-7f93-4537-9fe3-7087bbfb6a8f"
      },
      "execution_count": null,
      "outputs": [
        {
          "output_type": "stream",
          "name": "stdout",
          "text": [
            "Updated elements: [2, 3, 5, 7, 11, 13, 17, 23, 23]\n"
          ]
        }
      ]
    },
    {
      "cell_type": "code",
      "source": [
        "#removing\n",
        "l.remove(23)\n",
        "print(\"After removing:\",l)"
      ],
      "metadata": {
        "colab": {
          "base_uri": "https://localhost:8080/"
        },
        "id": "LtqAwcALWLfN",
        "outputId": "ca80fdc0-bb80-4fd0-9c49-c5c36a3de46b"
      },
      "execution_count": null,
      "outputs": [
        {
          "output_type": "stream",
          "name": "stdout",
          "text": [
            "After removing: [2, 3, 5, 7, 11, 13, 17]\n"
          ]
        }
      ]
    },
    {
      "cell_type": "code",
      "source": [
        "#poping\n",
        "y = l.pop()\n",
        "print(\"POP:\",y)"
      ],
      "metadata": {
        "colab": {
          "base_uri": "https://localhost:8080/"
        },
        "id": "Js2x6cdaWUje",
        "outputId": "d0520093-04b9-4295-aef9-ecf2e19bdbd1"
      },
      "execution_count": null,
      "outputs": [
        {
          "output_type": "stream",
          "name": "stdout",
          "text": [
            "POP: 13\n"
          ]
        }
      ]
    },
    {
      "cell_type": "code",
      "source": [
        "#length\n",
        "x = len(l)\n",
        "print(\"LENGTH:\",x)"
      ],
      "metadata": {
        "colab": {
          "base_uri": "https://localhost:8080/"
        },
        "id": "RrI2BGtOWoAb",
        "outputId": "a9c17508-b521-4e7e-9ba5-6e84de5055d1"
      },
      "execution_count": null,
      "outputs": [
        {
          "output_type": "stream",
          "name": "stdout",
          "text": [
            "LENGTH: 6\n"
          ]
        }
      ]
    },
    {
      "cell_type": "code",
      "source": [
        "#min\n",
        "x = min(l)\n",
        "print(\"MIN:\",x)"
      ],
      "metadata": {
        "colab": {
          "base_uri": "https://localhost:8080/"
        },
        "id": "n__FPY55W7fz",
        "outputId": "c6497521-2d3e-4495-c817-85a1a2423ba2"
      },
      "execution_count": null,
      "outputs": [
        {
          "output_type": "stream",
          "name": "stdout",
          "text": [
            "MIN: 2\n"
          ]
        }
      ]
    },
    {
      "cell_type": "code",
      "source": [
        "#max\n",
        "x = max(l)\n",
        "print(\"MAX:\",x)"
      ],
      "metadata": {
        "colab": {
          "base_uri": "https://localhost:8080/"
        },
        "id": "_LyWAjpBXDIG",
        "outputId": "621e0eaf-06cd-4ff0-d8d9-fb51202f280e"
      },
      "execution_count": null,
      "outputs": [
        {
          "output_type": "stream",
          "name": "stdout",
          "text": [
            "MAX: 13\n"
          ]
        }
      ]
    },
    {
      "cell_type": "code",
      "source": [
        "#sum\n",
        "y = sum(l)\n",
        "print(\"Sum:\",y)"
      ],
      "metadata": {
        "colab": {
          "base_uri": "https://localhost:8080/"
        },
        "id": "Y9xFUd3oXH-O",
        "outputId": "ee1726dc-5b5e-41ae-9e9a-49814c7e9609"
      },
      "execution_count": null,
      "outputs": [
        {
          "output_type": "stream",
          "name": "stdout",
          "text": [
            "Sum: 41\n"
          ]
        }
      ]
    },
    {
      "cell_type": "code",
      "source": [
        "#reversing\n",
        "y = l.reverse()\n",
        "print(\"Reverse:\",l)"
      ],
      "metadata": {
        "colab": {
          "base_uri": "https://localhost:8080/"
        },
        "id": "WAU4NCh9XeM4",
        "outputId": "8c4dec9a-c8b2-4527-8000-5502a9cf74b7"
      },
      "execution_count": null,
      "outputs": [
        {
          "output_type": "stream",
          "name": "stdout",
          "text": [
            "Reverse: [11, 7, 5, 3, 2]\n"
          ]
        }
      ]
    },
    {
      "cell_type": "code",
      "source": [
        "#sorting\n",
        "l.sort()\n",
        "print(\"Sorted element\",l)"
      ],
      "metadata": {
        "colab": {
          "base_uri": "https://localhost:8080/"
        },
        "id": "Y7BiQpDgXvfH",
        "outputId": "3e9efd75-9e56-4e6e-8f3d-3de8a10404a7"
      },
      "execution_count": null,
      "outputs": [
        {
          "output_type": "stream",
          "name": "stdout",
          "text": [
            "Sorted element [2, 3, 5, 7, 11]\n"
          ]
        }
      ]
    },
    {
      "cell_type": "code",
      "source": [
        "#slicing\n",
        "print(\"After slicing:\",l[:3])"
      ],
      "metadata": {
        "colab": {
          "base_uri": "https://localhost:8080/"
        },
        "id": "up1lSrk9X9G-",
        "outputId": "b4eeb38e-3add-4c6b-ddb2-b281d3c1ef10"
      },
      "execution_count": null,
      "outputs": [
        {
          "output_type": "stream",
          "name": "stdout",
          "text": [
            "After slicing: [2, 3, 5]\n"
          ]
        }
      ]
    },
    {
      "cell_type": "code",
      "source": [
        "#inserting\n",
        "l.insert(6,23)\n",
        "print(\"inserted list:\",l)"
      ],
      "metadata": {
        "colab": {
          "base_uri": "https://localhost:8080/"
        },
        "id": "XyIYYdyJYYvf",
        "outputId": "ff1a60b7-5d1b-48aa-bf88-49e90d39acc8"
      },
      "execution_count": null,
      "outputs": [
        {
          "output_type": "stream",
          "name": "stdout",
          "text": [
            "inserted list: [2, 3, 5, 7, 11, 23]\n"
          ]
        }
      ]
    },
    {
      "cell_type": "markdown",
      "source": [
        "DICTIONARY OPERATIONS"
      ],
      "metadata": {
        "id": "bcCukHkDbXpa"
      }
    },
    {
      "cell_type": "code",
      "source": [
        "#creating\n",
        "d = {1 : \"hi\", 2 : \"hello\", 3 : \"me\", 4 : \"you\"}\n",
        "print(d)\n",
        "#adding a key - value\n",
        "d[5] = \"she\"\n",
        "print(d)\n",
        "#modifying\n",
        "d[4] = \"he\"\n",
        "print(d)\n",
        "#del\n",
        "del d[2]\n",
        "print(d)\n",
        "#values\n",
        "print(d.values())\n",
        "#keys\n",
        "print(d.keys())\n",
        "#items\n",
        "print(d.items())\n",
        "#copy\n",
        "a = d.copy()\n",
        "print(a)\n",
        "#popping\n",
        "print(d.pop(1))\n",
        "print(d)\n",
        "#clear\n",
        "d.clear()\n",
        "print(d)"
      ],
      "metadata": {
        "colab": {
          "base_uri": "https://localhost:8080/"
        },
        "id": "YbXCQAGmbbZu",
        "outputId": "a0692307-af99-438a-fe2e-d964ea2ce079"
      },
      "execution_count": null,
      "outputs": [
        {
          "output_type": "stream",
          "name": "stdout",
          "text": [
            "{1: 'hi', 2: 'hello', 3: 'me', 4: 'you'}\n",
            "{1: 'hi', 2: 'hello', 3: 'me', 4: 'you', 5: 'she'}\n",
            "{1: 'hi', 2: 'hello', 3: 'me', 4: 'he', 5: 'she'}\n",
            "{1: 'hi', 3: 'me', 4: 'he', 5: 'she'}\n",
            "dict_values(['hi', 'me', 'he', 'she'])\n",
            "dict_keys([1, 3, 4, 5])\n",
            "dict_items([(1, 'hi'), (3, 'me'), (4, 'he'), (5, 'she')])\n",
            "{1: 'hi', 3: 'me', 4: 'he', 5: 'she'}\n",
            "hi\n",
            "{3: 'me', 4: 'he', 5: 'she'}\n",
            "{}\n"
          ]
        }
      ]
    },
    {
      "cell_type": "markdown",
      "source": [
        "TUPLE OPERATIONS"
      ],
      "metadata": {
        "id": "4_6BQUrpdF6-"
      }
    },
    {
      "cell_type": "code",
      "source": [
        "#concatination\n",
        "t1 = (1,2,3,4,'hii')\n",
        "t2 = ('me','you',5,6)\n",
        "t3 = t1 + t2\n",
        "print(t3)"
      ],
      "metadata": {
        "colab": {
          "base_uri": "https://localhost:8080/"
        },
        "id": "av7L4bbYdH7d",
        "outputId": "2b27d773-885b-45f3-accb-4785bd583213"
      },
      "execution_count": null,
      "outputs": [
        {
          "output_type": "stream",
          "name": "stdout",
          "text": [
            "(1, 2, 3, 4, 'hii', 'me', 'you', 5, 6)\n"
          ]
        }
      ]
    },
    {
      "cell_type": "code",
      "source": [
        "t = (1,2,3,4,5)\n",
        "#max\n",
        "print(max(t))\n",
        "#min\n",
        "print(min(t))\n",
        "#sum\n",
        "print(sum(t))\n",
        "#length\n",
        "print(len(t))"
      ],
      "metadata": {
        "colab": {
          "base_uri": "https://localhost:8080/"
        },
        "id": "18OJ3D5hdWGc",
        "outputId": "59cbdaa3-4de6-4d87-c91a-05afcb903e5a"
      },
      "execution_count": null,
      "outputs": [
        {
          "output_type": "stream",
          "name": "stdout",
          "text": [
            "5\n",
            "1\n",
            "15\n",
            "5\n"
          ]
        }
      ]
    }
  ]
}